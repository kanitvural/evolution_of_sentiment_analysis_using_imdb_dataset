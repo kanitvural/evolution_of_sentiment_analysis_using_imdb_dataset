{
 "cells": [
  {
   "cell_type": "code",
   "execution_count": 274,
   "metadata": {},
   "outputs": [],
   "source": [
    "from warnings import filterwarnings\n",
    "import matplotlib.pyplot as plt\n",
    "import numpy as np\n",
    "import pandas as pd\n",
    "import re\n",
    "import seaborn as sns\n",
    "from PIL import Image\n",
    "import nltk\n",
    "from nltk.corpus import stopwords\n",
    "from nltk.sentiment import SentimentIntensityAnalyzer\n",
    "from sklearn.ensemble import RandomForestClassifier\n",
    "from sklearn.linear_model import LogisticRegression\n",
    "from sklearn.model_selection import cross_val_score, GridSearchCV, cross_validate\n",
    "from sklearn.preprocessing import LabelEncoder\n",
    "from textblob import Word, TextBlob\n",
    "from wordcloud import WordCloud\n",
    "\n",
    "filterwarnings('ignore')\n",
    "pd.set_option('display.max_columns', None)\n",
    "pd.set_option('display.width', None)\n",
    "pd.set_option('display.max_rows', None)\n",
    "pd.set_option('display.float_format', lambda x: '%.2f' % x)\n",
    "pd.set_option('display.max_colwidth', None)\n",
    "plt.style.use(\"ggplot\")\n",
    "sns.set_palette(sns.diverging_palette(220, 20))"
   ]
  },
  {
   "cell_type": "markdown",
   "metadata": {},
   "source": [
    "### **1. Data Validation**"
   ]
  },
  {
   "cell_type": "code",
   "execution_count": 275,
   "metadata": {},
   "outputs": [
    {
     "data": {
      "text/html": [
       "<div>\n",
       "<style scoped>\n",
       "    .dataframe tbody tr th:only-of-type {\n",
       "        vertical-align: middle;\n",
       "    }\n",
       "\n",
       "    .dataframe tbody tr th {\n",
       "        vertical-align: top;\n",
       "    }\n",
       "\n",
       "    .dataframe thead th {\n",
       "        text-align: right;\n",
       "    }\n",
       "</style>\n",
       "<table border=\"1\" class=\"dataframe\">\n",
       "  <thead>\n",
       "    <tr style=\"text-align: right;\">\n",
       "      <th></th>\n",
       "      <th>review</th>\n",
       "      <th>sentiment</th>\n",
       "    </tr>\n",
       "  </thead>\n",
       "  <tbody>\n",
       "    <tr>\n",
       "      <th>0</th>\n",
       "      <td>One of the other reviewers has mentioned that after watching just 1 Oz episode you'll be hooked. They are right, as this is exactly what happened with me.&lt;br /&gt;&lt;br /&gt;The first thing that struck me about Oz was its brutality and unflinching scenes of violence, which set in right from the word GO. Trust me, this is not a show for the faint hearted or timid. This show pulls no punches with regards to drugs, sex or violence. Its is hardcore, in the classic use of the word.&lt;br /&gt;&lt;br /&gt;It is called OZ as that is the nickname given to the Oswald Maximum Security State Penitentary. It focuses mainly on Emerald City, an experimental section of the prison where all the cells have glass fronts and face inwards, so privacy is not high on the agenda. Em City is home to many..Aryans, Muslims, gangstas, Latinos, Christians, Italians, Irish and more....so scuffles, death stares, dodgy dealings and shady agreements are never far away.&lt;br /&gt;&lt;br /&gt;I would say the main appeal of the show is due to the fact that it goes where other shows wouldn't dare. Forget pretty pictures painted for mainstream audiences, forget charm, forget romance...OZ doesn't mess around. The first episode I ever saw struck me as so nasty it was surreal, I couldn't say I was ready for it, but as I watched more, I developed a taste for Oz, and got accustomed to the high levels of graphic violence. Not just violence, but injustice (crooked guards who'll be sold out for a nickel, inmates who'll kill on order and get away with it, well mannered, middle class inmates being turned into prison bitches due to their lack of street skills or prison experience) Watching Oz, you may become comfortable with what is uncomfortable viewing....thats if you can get in touch with your darker side.</td>\n",
       "      <td>positive</td>\n",
       "    </tr>\n",
       "    <tr>\n",
       "      <th>1</th>\n",
       "      <td>A wonderful little production. &lt;br /&gt;&lt;br /&gt;The filming technique is very unassuming- very old-time-BBC fashion and gives a comforting, and sometimes discomforting, sense of realism to the entire piece. &lt;br /&gt;&lt;br /&gt;The actors are extremely well chosen- Michael Sheen not only \"has got all the polari\" but he has all the voices down pat too! You can truly see the seamless editing guided by the references to Williams' diary entries, not only is it well worth the watching but it is a terrificly written and performed piece. A masterful production about one of the great master's of comedy and his life. &lt;br /&gt;&lt;br /&gt;The realism really comes home with the little things: the fantasy of the guard which, rather than use the traditional 'dream' techniques remains solid then disappears. It plays on our knowledge and our senses, particularly with the scenes concerning Orton and Halliwell and the sets (particularly of their flat with Halliwell's murals decorating every surface) are terribly well done.</td>\n",
       "      <td>positive</td>\n",
       "    </tr>\n",
       "  </tbody>\n",
       "</table>\n",
       "</div>"
      ],
      "text/plain": [
       "                                                                                                                                                                                                                                                                                                                                                                                                                                                                                                                                                                                                                                                                                                                                                                                                                                                                                                                                                                                                                                                                                                                                                                                                                                                                                                                                                                                                                                                                                                                                                                                                                                                                                                                                                                                                                              review  \\\n",
       "0  One of the other reviewers has mentioned that after watching just 1 Oz episode you'll be hooked. They are right, as this is exactly what happened with me.<br /><br />The first thing that struck me about Oz was its brutality and unflinching scenes of violence, which set in right from the word GO. Trust me, this is not a show for the faint hearted or timid. This show pulls no punches with regards to drugs, sex or violence. Its is hardcore, in the classic use of the word.<br /><br />It is called OZ as that is the nickname given to the Oswald Maximum Security State Penitentary. It focuses mainly on Emerald City, an experimental section of the prison where all the cells have glass fronts and face inwards, so privacy is not high on the agenda. Em City is home to many..Aryans, Muslims, gangstas, Latinos, Christians, Italians, Irish and more....so scuffles, death stares, dodgy dealings and shady agreements are never far away.<br /><br />I would say the main appeal of the show is due to the fact that it goes where other shows wouldn't dare. Forget pretty pictures painted for mainstream audiences, forget charm, forget romance...OZ doesn't mess around. The first episode I ever saw struck me as so nasty it was surreal, I couldn't say I was ready for it, but as I watched more, I developed a taste for Oz, and got accustomed to the high levels of graphic violence. Not just violence, but injustice (crooked guards who'll be sold out for a nickel, inmates who'll kill on order and get away with it, well mannered, middle class inmates being turned into prison bitches due to their lack of street skills or prison experience) Watching Oz, you may become comfortable with what is uncomfortable viewing....thats if you can get in touch with your darker side.   \n",
       "1                                                                                                                                                                                                                                                                                                                                                                                                                                                                                                                                                                                                                                                                                                                                                                                             A wonderful little production. <br /><br />The filming technique is very unassuming- very old-time-BBC fashion and gives a comforting, and sometimes discomforting, sense of realism to the entire piece. <br /><br />The actors are extremely well chosen- Michael Sheen not only \"has got all the polari\" but he has all the voices down pat too! You can truly see the seamless editing guided by the references to Williams' diary entries, not only is it well worth the watching but it is a terrificly written and performed piece. A masterful production about one of the great master's of comedy and his life. <br /><br />The realism really comes home with the little things: the fantasy of the guard which, rather than use the traditional 'dream' techniques remains solid then disappears. It plays on our knowledge and our senses, particularly with the scenes concerning Orton and Halliwell and the sets (particularly of their flat with Halliwell's murals decorating every surface) are terribly well done.   \n",
       "\n",
       "  sentiment  \n",
       "0  positive  \n",
       "1  positive  "
      ]
     },
     "execution_count": 275,
     "metadata": {},
     "output_type": "execute_result"
    }
   ],
   "source": [
    "df = pd.read_csv(\"data/IMDB_Dataset.csv\")\n",
    "df.head(2)"
   ]
  },
  {
   "cell_type": "markdown",
   "metadata": {},
   "source": [
    "Shape of dataset"
   ]
  },
  {
   "cell_type": "code",
   "execution_count": 276,
   "metadata": {},
   "outputs": [
    {
     "data": {
      "text/plain": [
       "(50000, 2)"
      ]
     },
     "execution_count": 276,
     "metadata": {},
     "output_type": "execute_result"
    }
   ],
   "source": [
    "df.shape"
   ]
  },
  {
   "cell_type": "markdown",
   "metadata": {},
   "source": [
    "Missing Values"
   ]
  },
  {
   "cell_type": "code",
   "execution_count": 277,
   "metadata": {},
   "outputs": [
    {
     "data": {
      "text/plain": [
       "review       0\n",
       "sentiment    0\n",
       "dtype: int64"
      ]
     },
     "execution_count": 277,
     "metadata": {},
     "output_type": "execute_result"
    }
   ],
   "source": [
    "df.isnull().sum()"
   ]
  },
  {
   "cell_type": "markdown",
   "metadata": {},
   "source": [
    "Labels"
   ]
  },
  {
   "cell_type": "code",
   "execution_count": 278,
   "metadata": {},
   "outputs": [
    {
     "data": {
      "text/plain": [
       "sentiment\n",
       "positive    25000\n",
       "negative    25000\n",
       "Name: count, dtype: int64"
      ]
     },
     "execution_count": 278,
     "metadata": {},
     "output_type": "execute_result"
    }
   ],
   "source": [
    "df[\"sentiment\"].value_counts(dropna=False)"
   ]
  },
  {
   "cell_type": "markdown",
   "metadata": {},
   "source": [
    "Describe"
   ]
  },
  {
   "cell_type": "code",
   "execution_count": 279,
   "metadata": {},
   "outputs": [
    {
     "data": {
      "text/html": [
       "<div>\n",
       "<style scoped>\n",
       "    .dataframe tbody tr th:only-of-type {\n",
       "        vertical-align: middle;\n",
       "    }\n",
       "\n",
       "    .dataframe tbody tr th {\n",
       "        vertical-align: top;\n",
       "    }\n",
       "\n",
       "    .dataframe thead th {\n",
       "        text-align: right;\n",
       "    }\n",
       "</style>\n",
       "<table border=\"1\" class=\"dataframe\">\n",
       "  <thead>\n",
       "    <tr style=\"text-align: right;\">\n",
       "      <th></th>\n",
       "      <th>count</th>\n",
       "      <th>unique</th>\n",
       "      <th>top</th>\n",
       "      <th>freq</th>\n",
       "    </tr>\n",
       "  </thead>\n",
       "  <tbody>\n",
       "    <tr>\n",
       "      <th>review</th>\n",
       "      <td>50000</td>\n",
       "      <td>49582</td>\n",
       "      <td>Loved today's show!!! It was a variety and not solely cooking (which would have been great too). Very stimulating and captivating, always keeping the viewer peeking around the corner to see what was coming up next. She is as down to earth and as personable as you get, like one of us which made the show all the more enjoyable. Special guests, who are friends as well made for a nice surprise too. Loved the 'first' theme and that the audience was invited to play along too. I must admit I was shocked to see her come in under her time limits on a few things, but she did it and by golly I'll be writing those recipes down. Saving time in the kitchen means more time with family. Those who haven't tuned in yet, find out what channel and the time, I assure you that you won't be disappointed.</td>\n",
       "      <td>5</td>\n",
       "    </tr>\n",
       "    <tr>\n",
       "      <th>sentiment</th>\n",
       "      <td>50000</td>\n",
       "      <td>2</td>\n",
       "      <td>positive</td>\n",
       "      <td>25000</td>\n",
       "    </tr>\n",
       "  </tbody>\n",
       "</table>\n",
       "</div>"
      ],
      "text/plain": [
       "           count unique  \\\n",
       "review     50000  49582   \n",
       "sentiment  50000      2   \n",
       "\n",
       "                                                                                                                                                                                                                                                                                                                                                                                                                                                                                                                                                                                                                                                                                                                                                                                                                                top  \\\n",
       "review     Loved today's show!!! It was a variety and not solely cooking (which would have been great too). Very stimulating and captivating, always keeping the viewer peeking around the corner to see what was coming up next. She is as down to earth and as personable as you get, like one of us which made the show all the more enjoyable. Special guests, who are friends as well made for a nice surprise too. Loved the 'first' theme and that the audience was invited to play along too. I must admit I was shocked to see her come in under her time limits on a few things, but she did it and by golly I'll be writing those recipes down. Saving time in the kitchen means more time with family. Those who haven't tuned in yet, find out what channel and the time, I assure you that you won't be disappointed.   \n",
       "sentiment                                                                                                                                                                                                                                                                                                                                                                                                                                                                                                                                                                                                                                                                                                                                                                                                                  positive   \n",
       "\n",
       "            freq  \n",
       "review         5  \n",
       "sentiment  25000  "
      ]
     },
     "execution_count": 279,
     "metadata": {},
     "output_type": "execute_result"
    }
   ],
   "source": [
    "df.describe().T"
   ]
  },
  {
   "cell_type": "markdown",
   "metadata": {},
   "source": [
    "### **2. Text Preprocessing**"
   ]
  },
  {
   "cell_type": "markdown",
   "metadata": {},
   "source": [
    "**2.1. Text Cleaning**\n",
    "\n",
    "Due to its adverse effect on model performance, unwanted punctuation marks, special characters, HTML tags, numbers, and extra spaces have been removed from the comments, and all characters have been converted to lowercase to achieve a clean format."
   ]
  },
  {
   "cell_type": "code",
   "execution_count": 280,
   "metadata": {},
   "outputs": [],
   "source": [
    "def clean_text(text: str) -> str:\n",
    "    \"\"\"\n",
    "    Clean and normalize text by removing HTML tags, punctuation, numbers, and extra whitespace.\n",
    "\n",
    "    Parameters\n",
    "    ----------\n",
    "    text : str\n",
    "        The input text string to be cleaned.\n",
    "\n",
    "    Returns\n",
    "    -------\n",
    "    str\n",
    "        The cleaned and normalized text string.\n",
    "    \n",
    "    Notes\n",
    "    -----\n",
    "    This function performs the following operations:\n",
    "        - Converts the text to lowercase.\n",
    "        - Removes punctuation.\n",
    "        - Removes HTML tags, including <br> tags.\n",
    "        - Removes numbers.\n",
    "        - Collapses multiple spaces into a single space and trims leading/trailing spaces.\n",
    "    \"\"\"\n",
    "    text = text.lower() \n",
    "    text = re.sub(r\"[^\\w\\s]\", \"\", text)  \n",
    "    text = re.sub(r\"\\s*br\\s*/?\\s*\", \"\", text)\n",
    "    text = re.sub(r\"<.*?>\", \"\", text) \n",
    "    text = re.sub(r\"\\d\", \"\", text)  \n",
    "    text = re.sub(r\"\\s+\", \" \", text).strip()  \n",
    "    return text\n"
   ]
  },
  {
   "cell_type": "code",
   "execution_count": 281,
   "metadata": {},
   "outputs": [],
   "source": [
    "df[\"review\"] = df[\"review\"].apply(clean_text)"
   ]
  },
  {
   "cell_type": "code",
   "execution_count": 282,
   "metadata": {},
   "outputs": [
    {
     "data": {
      "text/html": [
       "<div>\n",
       "<style scoped>\n",
       "    .dataframe tbody tr th:only-of-type {\n",
       "        vertical-align: middle;\n",
       "    }\n",
       "\n",
       "    .dataframe tbody tr th {\n",
       "        vertical-align: top;\n",
       "    }\n",
       "\n",
       "    .dataframe thead th {\n",
       "        text-align: right;\n",
       "    }\n",
       "</style>\n",
       "<table border=\"1\" class=\"dataframe\">\n",
       "  <thead>\n",
       "    <tr style=\"text-align: right;\">\n",
       "      <th></th>\n",
       "      <th>review</th>\n",
       "      <th>sentiment</th>\n",
       "    </tr>\n",
       "  </thead>\n",
       "  <tbody>\n",
       "    <tr>\n",
       "      <th>24518</th>\n",
       "      <td>i couldnt keep from commenting after reading the very short not bad commentary this movie is much better than just not bad the acting is stellar even from the children in the cast who dont play cute or anything else but act just like my sons friends the movie is smart and expects its audience to be as well the double back flash story lines are imaginative and contribute to the story rather than act as time filler i watched this movie with my kids and then i watched it again by myself a few days later if you have kids and are sick to death of movies that inspire a diabetic coma with their syrupy sweetness then check out holes my yearold enjoyed it as much as my yearold and my husband and i enjoyed it as much as the two of them how many movies can you say that about</td>\n",
       "      <td>positive</td>\n",
       "    </tr>\n",
       "    <tr>\n",
       "      <th>8561</th>\n",
       "      <td>i have been most fortunate this year to have seen several films at my universitys art museum on occasion well more like half of the time i am unable to watch the films there i have systematically attempted to view each of the films that i have missed so far plagues and pleasures on the salton sea and who killed the electric car are the other films that i have had to watch this way the film covers an intriguing subject matter and is welltheorized emphasis on this later but not as successful as plagues and pleasures but far superior to electric carthe films thesis concerns the future of the american concept of suburban living it questions the feasibility of such a practice as oil prices rise so the film discusses the origin of the suburb and its evolution until the early s one theme the film discusses at length is the alienation the suburb creates among its inhabitants while several people may live together they do not know each other as we define the word this to me represents the strength of the film its appeal to actual human emotion we are able to understand the filmmakers argument so much easier because they do not have to convince us of their arguments legitimacy this is also one of the reasons salton sea is such a wonderful documentaryunfortunately suburbia loses its message in fireand explanation in support of its central argument as those interviewed speak their arguments become progressively more akin to those made by militant environmentalists we are told that oil production will hit its peak in this decade but are given no scientific evidence professional reports statistics graphs etc in support of this claim we are given little information as to how this date was calculated fortunately this was the only significant flaw that i was able to detect in the films argument yet its a glaring one nevertheless another lessimportant discrepancy i noticed was the liberal political bias which could polarize some viewers however this bias is revealed thorough clips of various events and not the filmmakers themselves the clips especially those from the s seemed a tad unnecessary to me the film was no better with their presence and would have been more concise in their absenceas i thought more of this film before composing this review i thought about why i found its argument more convincing than other documentaries that id recently viewed finally i realized that the filmmakers actually offered analysis to the suburban problem they propose a decentralized villagesystem where pockets of people would live together they posit this practice would lower the necessity for fossil fuels and reduce wasted space they define wasted space as the long stretches of parking lots between shopping areas for instance what is incredible about this supposition is that its actually conceivable most documentaries vaguely state that some problem should be ended but offer no method of doing so thinking more about the film i decided that this analysis is what saved the film for me and why i give it a favorable reviewwhile neither perfectly convincing nor fluid in presentation the end of suburbia is a worthwhile investment of ones time it not only addresses the contemporary problem of sprawl but it also provides realistic insight on how to amend it the audience can also enjoy the high production value with various clips from the s spliced with the modern arguers people living in atlanta georgia or the triad region of north carolina will particularly enjoy this documentary as sprawl is the most established there</td>\n",
       "      <td>positive</td>\n",
       "    </tr>\n",
       "  </tbody>\n",
       "</table>\n",
       "</div>"
      ],
      "text/plain": [
       "                                                                                                                                                                                                                                                                                                                                                                                                                                                                                                                                                                                                                                                                                                                                                                                                                                                                                                                                                                                                                                                                                                                                                                                                                                                                                                                                                                                                                                                                                                                                                                                                                                                                                                                                                                                                                                                                                                                                                                                                                                                                                                                                                                                                                                                                                                                                                                                                                                                                                                                                                                                                                                                                                                                                                                                                                                                                                                                                                                                                                                                                                                                                                                                                                                                                                                                                                                                                                                                                                                                                                                                                                                                                                          review  \\\n",
       "24518                                                                                                                                                                                                                                                                                                                                                                                                                                                                                                                                                                                                                                                                                                                                                                                                                                                                                                                                                                                                                                                                                                                                                                                                                                                                                                                                                                                                                                                                                                                                                                                                                                                                                                                                                                                                                                                                                                                                                                                                                                                                                                                                                                                                                                                                                                                                                                                                                                                                                                                                                                                                                                                                                                                                                                                                                                                                                     i couldnt keep from commenting after reading the very short not bad commentary this movie is much better than just not bad the acting is stellar even from the children in the cast who dont play cute or anything else but act just like my sons friends the movie is smart and expects its audience to be as well the double back flash story lines are imaginative and contribute to the story rather than act as time filler i watched this movie with my kids and then i watched it again by myself a few days later if you have kids and are sick to death of movies that inspire a diabetic coma with their syrupy sweetness then check out holes my yearold enjoyed it as much as my yearold and my husband and i enjoyed it as much as the two of them how many movies can you say that about   \n",
       "8561   i have been most fortunate this year to have seen several films at my universitys art museum on occasion well more like half of the time i am unable to watch the films there i have systematically attempted to view each of the films that i have missed so far plagues and pleasures on the salton sea and who killed the electric car are the other films that i have had to watch this way the film covers an intriguing subject matter and is welltheorized emphasis on this later but not as successful as plagues and pleasures but far superior to electric carthe films thesis concerns the future of the american concept of suburban living it questions the feasibility of such a practice as oil prices rise so the film discusses the origin of the suburb and its evolution until the early s one theme the film discusses at length is the alienation the suburb creates among its inhabitants while several people may live together they do not know each other as we define the word this to me represents the strength of the film its appeal to actual human emotion we are able to understand the filmmakers argument so much easier because they do not have to convince us of their arguments legitimacy this is also one of the reasons salton sea is such a wonderful documentaryunfortunately suburbia loses its message in fireand explanation in support of its central argument as those interviewed speak their arguments become progressively more akin to those made by militant environmentalists we are told that oil production will hit its peak in this decade but are given no scientific evidence professional reports statistics graphs etc in support of this claim we are given little information as to how this date was calculated fortunately this was the only significant flaw that i was able to detect in the films argument yet its a glaring one nevertheless another lessimportant discrepancy i noticed was the liberal political bias which could polarize some viewers however this bias is revealed thorough clips of various events and not the filmmakers themselves the clips especially those from the s seemed a tad unnecessary to me the film was no better with their presence and would have been more concise in their absenceas i thought more of this film before composing this review i thought about why i found its argument more convincing than other documentaries that id recently viewed finally i realized that the filmmakers actually offered analysis to the suburban problem they propose a decentralized villagesystem where pockets of people would live together they posit this practice would lower the necessity for fossil fuels and reduce wasted space they define wasted space as the long stretches of parking lots between shopping areas for instance what is incredible about this supposition is that its actually conceivable most documentaries vaguely state that some problem should be ended but offer no method of doing so thinking more about the film i decided that this analysis is what saved the film for me and why i give it a favorable reviewwhile neither perfectly convincing nor fluid in presentation the end of suburbia is a worthwhile investment of ones time it not only addresses the contemporary problem of sprawl but it also provides realistic insight on how to amend it the audience can also enjoy the high production value with various clips from the s spliced with the modern arguers people living in atlanta georgia or the triad region of north carolina will particularly enjoy this documentary as sprawl is the most established there   \n",
       "\n",
       "      sentiment  \n",
       "24518  positive  \n",
       "8561   positive  "
      ]
     },
     "execution_count": 282,
     "metadata": {},
     "output_type": "execute_result"
    }
   ],
   "source": [
    "df.sample(2)"
   ]
  },
  {
   "cell_type": "markdown",
   "metadata": {},
   "source": [
    "**2.2. Remove duplicates**\n",
    "\n",
    "Since identical comments were mixed into the dataset, one instance of each of these comments has been removed from the dataset."
   ]
  },
  {
   "cell_type": "code",
   "execution_count": 283,
   "metadata": {},
   "outputs": [
    {
     "name": "stdout",
     "output_type": "stream",
     "text": [
      "There are 421 duplicate reviews in imdb dataset\n"
     ]
    }
   ],
   "source": [
    "print(f\"There are {df[\"review\"].duplicated().sum()} duplicate reviews in imdb dataset\")"
   ]
  },
  {
   "cell_type": "markdown",
   "metadata": {},
   "source": [
    "Duplicate Sentences"
   ]
  },
  {
   "cell_type": "code",
   "execution_count": 284,
   "metadata": {},
   "outputs": [
    {
     "name": "stdout",
     "output_type": "stream",
     "text": [
      "Same sentences:\n",
      " before i begin let me get something off my chest im a huge fan of john eyres first film project shadowchaser the film a bgrade cross of both the terminator die hard may not be the work of a cinematic genius but is a hugely entertaining action film that became a cult hit spawned two sequels a spin offjudge and jury begins with joseph meeker a convicted killer who was sent to death row following his capture after the socalled bloody shootout which seems like a poor name for a killing spree meeker kills three people while trying to rob a convenience store being led to the electric chair there is an amusing scene where meeker talks to the priest about living for sex but meeting his one true love who was killed during the shootout expressing his revenge for the person who killed her michael silvano a washedup football star who spends his days watching his son alex practicing football with his high school team and ends up harassing his sons coach but once executed meeker returns as a revenant or as kelly perine calls a hamburger without the fries whose sole aim is to get his revenge which basically means making silvanos life a miserylet me point out the fact that judge and jury is not a true horror film it is a supernatural action film with meeker chasing silvano using his ability to change form which amounts to david keith dressing up as everything from an elvis impersonator a french chef with an accent as bad as his moustache a drag queen a clown a standup comedian a shotgun which fires explosive rounds an invulnerability to death although that doesnt stop martin kove from shooting keith with a desert eagle to pay silvano back for killing meekers wifedirector john eyres does not seem interested in characterisations instead focusing solely on action scenes which the film has plenty of but that is the films main flaw since theres nothing to connect the action scenes together the acting is surprisingly good with keith delivering the best performance supported ably by kove as well as paul koslo who plays the washedup cop quite well kelly perine is annoying as the cabbie who tries to help but makes the situation worse\n",
      "                                                                                                                                                                                                                                                                                                                                                                                                                                                                                                                                                                                                                                                                                                                                                                                                                                                                                                                                                                                                                                                                                                                                                                                                                                                                                                                                                                                                                                                                                                                                                                                                                                                                                                                                                                                                                                                                                                                                                                                                                                                                                                                                                                                                                                 review  \\\n",
      "140  before i begin let me get something off my chest im a huge fan of john eyres first film project shadowchaser the film a bgrade cross of both the terminator die hard may not be the work of a cinematic genius but is a hugely entertaining action film that became a cult hit spawned two sequels a spin offjudge and jury begins with joseph meeker a convicted killer who was sent to death row following his capture after the socalled bloody shootout which seems like a poor name for a killing spree meeker kills three people while trying to rob a convenience store being led to the electric chair there is an amusing scene where meeker talks to the priest about living for sex but meeting his one true love who was killed during the shootout expressing his revenge for the person who killed her michael silvano a washedup football star who spends his days watching his son alex practicing football with his high school team and ends up harassing his sons coach but once executed meeker returns as a revenant or as kelly perine calls a hamburger without the fries whose sole aim is to get his revenge which basically means making silvanos life a miserylet me point out the fact that judge and jury is not a true horror film it is a supernatural action film with meeker chasing silvano using his ability to change form which amounts to david keith dressing up as everything from an elvis impersonator a french chef with an accent as bad as his moustache a drag queen a clown a standup comedian a shotgun which fires explosive rounds an invulnerability to death although that doesnt stop martin kove from shooting keith with a desert eagle to pay silvano back for killing meekers wifedirector john eyres does not seem interested in characterisations instead focusing solely on action scenes which the film has plenty of but that is the films main flaw since theres nothing to connect the action scenes together the acting is surprisingly good with keith delivering the best performance supported ably by kove as well as paul koslo who plays the washedup cop quite well kelly perine is annoying as the cabbie who tries to help but makes the situation worse   \n",
      "\n",
      "    sentiment  \n",
      "140  negative  \n",
      "----------------------------------------------------------------------------------------------------\n",
      "Same sentences:\n",
      " of all the films i have seen this one the rage has got to be one of the worst yet the direction logic continuity changes in plotscript and dialog made me cry out in pain how could anyone come up with something so crappy gary busey is know for his b movies but this is a sure w movie wwastetake for example about two dozen fbi local law officers surround a trailer house with a jeep wagoneer inside the jeep is ma and is confused as to why all the cops are about within seconds a huge gun battle ensues ma being killed straight off the cops blast away at the jeep with gary and company blasting away at them the cops fall like dominoes and the jeep with gary drives around in circles and are not hit by one single bulletpellet ma is killed and gary seems to not to have noticeddamn that guy is tough truly a miracle not since the sixshooter held bullets has there been such a miracle\n",
      "                                                                                                                                                                                                                                                                                                                                                                                                                                                                                                                                                                                                                                                                                                                                                                                                                                                                                                                review  \\\n",
      "42  of all the films i have seen this one the rage has got to be one of the worst yet the direction logic continuity changes in plotscript and dialog made me cry out in pain how could anyone come up with something so crappy gary busey is know for his b movies but this is a sure w movie wwastetake for example about two dozen fbi local law officers surround a trailer house with a jeep wagoneer inside the jeep is ma and is confused as to why all the cops are about within seconds a huge gun battle ensues ma being killed straight off the cops blast away at the jeep with gary and company blasting away at them the cops fall like dominoes and the jeep with gary drives around in circles and are not hit by one single bulletpellet ma is killed and gary seems to not to have noticeddamn that guy is tough truly a miracle not since the sixshooter held bullets has there been such a miracle   \n",
      "\n",
      "   sentiment  \n",
      "42  negative  \n",
      "----------------------------------------------------------------------------------------------------\n",
      "Same sentences:\n",
      " weought this film as a joke for a friend and could of been our worst joke to play the film is barely watchable and the acting is dire the worst child actor ever used and hasslehoff giving a substandard performance the plot is disgraceful and at points we was so bored we was wondering what the hell was going on it tries to be gruesome in places but is just laughablejust terrible\n",
      "                                                                                                                                                                                                                                                                                                                                                                                          review  \\\n",
      "84  weought this film as a joke for a friend and could of been our worst joke to play the film is barely watchable and the acting is dire the worst child actor ever used and hasslehoff giving a substandard performance the plot is disgraceful and at points we was so bored we was wondering what the hell was going on it tries to be gruesome in places but is just laughablejust terrible   \n",
      "\n",
      "   sentiment  \n",
      "84  negative  \n",
      "----------------------------------------------------------------------------------------------------\n"
     ]
    }
   ],
   "source": [
    "duplicated_reviews = df[df[\"review\"].duplicated(keep=False)][:3]\n",
    "duplicated_groups = duplicated_reviews.groupby(\"review\")\n",
    "\n",
    "for review, group in duplicated_groups:\n",
    "    print(f\"Same sentences:\\n {review}\")\n",
    "    print(group)\n",
    "    print(\"-\" * 100)"
   ]
  },
  {
   "cell_type": "code",
   "execution_count": 285,
   "metadata": {},
   "outputs": [
    {
     "name": "stdout",
     "output_type": "stream",
     "text": [
      "There are 0 duplicate reviews in imdb dataset\n"
     ]
    }
   ],
   "source": [
    "df.drop_duplicates(inplace=True)\n",
    "print(f\"There are {df[\"review\"].duplicated().sum()} duplicate reviews in imdb dataset\")"
   ]
  },
  {
   "cell_type": "markdown",
   "metadata": {},
   "source": [
    "**2.3. Remove Stopwords**\n",
    "\n",
    "Stopword removal is the process of eliminating common, non-informative words (e.g., \"and\", \"the\", \"for\") from a text to help models focus on more meaningful content.\n"
   ]
  },
  {
   "cell_type": "code",
   "execution_count": 286,
   "metadata": {},
   "outputs": [],
   "source": [
    "sw = stopwords.words(\"english\")\n",
    "df[\"review\"] = df[\"review\"].apply(lambda x: \" \".join(x for x in str(x).split() if x not in sw))"
   ]
  },
  {
   "cell_type": "markdown",
   "metadata": {},
   "source": [
    "**2.4. Remove Rarewords**\n",
    "\n",
    "It is undesirable to keep infrequently occurring words in the study. Therefore, their removal is beneficial."
   ]
  },
  {
   "cell_type": "code",
   "execution_count": 287,
   "metadata": {},
   "outputs": [
    {
     "data": {
      "text/plain": [
       "filmore            1\n",
       "whoopass           1\n",
       "whatchugonnados    1\n",
       "sheetmetal         1\n",
       "backhand           1\n",
       "Name: count, dtype: int64"
      ]
     },
     "execution_count": 287,
     "metadata": {},
     "output_type": "execute_result"
    }
   ],
   "source": [
    "temp_df = pd.Series(\" \".join(df[\"review\"]).split()).value_counts().sort_values(ascending=True)\n",
    "temp_df.head()"
   ]
  },
  {
   "cell_type": "markdown",
   "metadata": {},
   "source": [
    "A threshold of 1000 words has been selected. Words with a frequency of less than 1000 have been removed from the dataset."
   ]
  },
  {
   "cell_type": "code",
   "execution_count": 288,
   "metadata": {},
   "outputs": [],
   "source": [
    "rare_words = pd.Series(\" \".join(df[\"review\"]).split()).value_counts()[-1000:]\n",
    "df[\"review\"] = df[\"review\"].apply(lambda x: \" \".join(x for x in x.split() if x not in rare_words))"
   ]
  },
  {
   "cell_type": "markdown",
   "metadata": {},
   "source": [
    "**2.5. Lemmatization**\n",
    "\n",
    "Lemmatization is the process of reducing a word to its base or dictionary form (lemma), ensuring that different forms of a word (e.g., \"running,\" \"ran,\" \"runs\") are represented by a single, standardized version, which helps improve the accuracy of natural language processing tasks.\n"
   ]
  },
  {
   "cell_type": "code",
   "execution_count": 289,
   "metadata": {},
   "outputs": [],
   "source": [
    "# nltk.download(\"wordnet\")"
   ]
  },
  {
   "cell_type": "code",
   "execution_count": 290,
   "metadata": {},
   "outputs": [],
   "source": [
    "df[\"review\"] = df[\"review\"].apply(lambda x : \" \".join(Word(word).lemmatize() for word in x.split()))"
   ]
  },
  {
   "cell_type": "markdown",
   "metadata": {},
   "source": [
    "### **3. Exploratory data analysis**"
   ]
  },
  {
   "cell_type": "markdown",
   "metadata": {},
   "source": [
    "3.1. Countplot of Target\n",
    "\n",
    "The dataset contains 49579 reviews after droping duplicates with  28883 positive reviews and 24696 negative reviews. The countplot below illustrates this imbalance."
   ]
  },
  {
   "cell_type": "code",
   "execution_count": 296,
   "metadata": {},
   "outputs": [
    {
     "data": {
      "image/png": "[encoded data removed]",
      "text/plain": [
       "<Figure size 640x480 with 1 Axes>"
      ]
     },
     "metadata": {},
     "output_type": "display_data"
    }
   ],
   "source": [
    "ax = sns.countplot(data=df, x = \"sentiment\")\n",
    "plt.title('Target count for IMBD reviews')\n",
    "ax.bar_label(ax.containers[0], fmt=\"%d\")\n",
    "plt.show()"
   ]
  },
  {
   "cell_type": "code",
   "execution_count": null,
   "metadata": {},
   "outputs": [],
   "source": []
  }
 ],
 "metadata": {
  "kernelspec": {
   "display_name": "venv",
   "language": "python",
   "name": "python3"
  },
  "language_info": {
   "codemirror_mode": {
    "name": "ipython",
    "version": 3
   },
   "file_extension": ".py",
   "mimetype": "text/x-python",
   "name": "python",
   "nbconvert_exporter": "python",
   "pygments_lexer": "ipython3",
   "version": "3.12.5"
  }
 },
 "nbformat": 4,
 "nbformat_minor": 2
}
